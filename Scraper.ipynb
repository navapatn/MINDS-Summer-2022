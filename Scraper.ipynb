{
 "cells": [
  {
   "cell_type": "code",
   "execution_count": 3,
   "id": "bb3df4d2",
   "metadata": {},
   "outputs": [],
   "source": [
    "import requests\n",
    "import re\n",
    "import json\n",
    "from bs4 import BeautifulSoup\n",
    "from tqdm.notebook import tqdm"
   ]
  },
  {
   "cell_type": "code",
   "execution_count": 4,
   "id": "81ac536c",
   "metadata": {},
   "outputs": [],
   "source": [
    "article_list = ['https://www.aljazeera.com/news/2022/5/23/floods-hit-south-africas-kwazulu-natal-province-again'\n",
    "                ,'https://www.aljazeera.com/news/2022/3/18/mozambique-cyclone-gombe-death-toll-rises-to-53'\n",
    "                ,'https://www.aljazeera.com/news/2022/3/4/mozambique-announces-new-prime-minister-and-finance-minister'\n",
    "                ,'https://www.aljazeera.com/economy/2022/3/1/analysis-can-african-gas-replace-russian-supplies-to-europe'\n",
    "                ,'https://www.aljazeera.com/news/2022/1/27/at-least-70-dead-from-tropical-storm-ana-in-southern-africa'\n",
    "                ,'https://www.aljazeera.com/news/2022/1/12/southern-africa-bloc-sadc-extends-mozambique-mission'\n",
    "                #,'https://www.aljazeera.com/program/start-here/2021/10/3/climate-change-and-famine-start-here' video news\n",
    "                ,'https://www.aljazeera.com/news/2021/9/24/in-mozambique-kagame-says-rwandan-troops-presence-to-continue'\n",
    "                ,'https://www.aljazeera.com/news/2021/8/8/rwanda-mozambique-forces-recapture-port-city-from-rebels'\n",
    "                ,'https://www.aljazeera.com/news/2021/7/10/rwanda-deploys-1000-soldiers-to-mozambique-cabo-delgado'\n",
    "                ,'https://www.aljazeera.com/news/2021/6/23/southern-african-nations-agree-to-deploy-forces-to-mozambique'\n",
    "               ]"
   ]
  },
  {
   "cell_type": "code",
   "execution_count": 5,
   "id": "ae1dc85d",
   "metadata": {},
   "outputs": [
    {
     "data": {
      "text/plain": [
       "<Response [200]>"
      ]
     },
     "execution_count": 5,
     "metadata": {},
     "output_type": "execute_result"
    }
   ],
   "source": [
    "response = requests.get(article_list[9])\n",
    "html = response.content\n",
    "response"
   ]
  },
  {
   "cell_type": "markdown",
   "id": "5c0058ea",
   "metadata": {},
   "source": [
    "# Choosing a Parser"
   ]
  },
  {
   "cell_type": "code",
   "execution_count": 6,
   "id": "694e4f78",
   "metadata": {},
   "outputs": [],
   "source": [
    "soup = BeautifulSoup(html, 'lxml')"
   ]
  },
  {
   "cell_type": "code",
   "execution_count": 7,
   "id": "0b454aab",
   "metadata": {},
   "outputs": [],
   "source": [
    "with open('aljazera_html_parser','wb') as file:\n",
    "    file.write(soup.prettify('utf-8'))"
   ]
  },
  {
   "cell_type": "markdown",
   "id": "f2a65a28",
   "metadata": {},
   "source": [
    "# Extract the Data from the Website"
   ]
  },
  {
   "cell_type": "code",
   "execution_count": 8,
   "id": "f4fd9733",
   "metadata": {},
   "outputs": [],
   "source": [
    "divs = soup.find_all('div', {'class' : 'wysiwyg wysiwyg--all-content css-1ck9wyi'}) #extract the article (all news in this website use this class id)\n",
    "divs2 = soup.find_all('title', {'data-rh'  : 'true'}) #extract the title\n",
    "divs3 = soup.find_all('meta', {'name'  : 'description'}) # extract the description\n",
    "article = str(divs[0])\n",
    "title = str(divs2[0])\n",
    "description = str(divs3[0])\n",
    "description = description.split('\"')"
   ]
  },
  {
   "cell_type": "markdown",
   "id": "9bbed547",
   "metadata": {},
   "source": [
    "# Preprocessing "
   ]
  },
  {
   "cell_type": "code",
   "execution_count": 9,
   "id": "c6470209",
   "metadata": {},
   "outputs": [],
   "source": [
    "cleanr = re.compile('<.*?>')\n",
    "cleanarticle = re.sub(cleanr, '', article)\n",
    "cleantitle = re.sub(cleanr, '', title)\n",
    "cleanarticle.strip()\n",
    "cleanarticle =cleanarticle.replace(\"\\n\",\"\")\n",
    "cleandescription = description[1]"
   ]
  },
  {
   "cell_type": "code",
   "execution_count": 10,
   "id": "29088150",
   "metadata": {},
   "outputs": [
    {
     "data": {
      "text/plain": [
       "'Southern African nations agree to deploy forces to Mozambique | Conflict News | Al Jazeera'"
      ]
     },
     "execution_count": 10,
     "metadata": {},
     "output_type": "execute_result"
    }
   ],
   "source": [
    "cleantitle"
   ]
  },
  {
   "cell_type": "code",
   "execution_count": 11,
   "id": "75aec354",
   "metadata": {},
   "outputs": [
    {
     "data": {
      "text/plain": [
       "'The SADC Standby Force will support Mozambique ‘to combat terrorism and acts of violent extremism’ in Cabo Delgado.'"
      ]
     },
     "execution_count": 11,
     "metadata": {},
     "output_type": "execute_result"
    }
   ],
   "source": [
    "cleandescription"
   ]
  },
  {
   "cell_type": "code",
   "execution_count": 12,
   "id": "93eeb1ad",
   "metadata": {},
   "outputs": [
    {
     "data": {
      "text/plain": [
       "'The Southern African Development Community (SADC) has said it agreed to deploy troops to Mozambique to help it tackle escalating violence in the country’s north – but offered little specific operational details.Nearly 3,000 people have been killed and almost 800,000 – half of whom are children – have been forced from their homes in gas-rich Cabo Delgado province since the conflict began in 2017.On Wednesday, SADC Executive Secretary Stergomena Tax said at the end of a one-day summit in Maputo the 16-member bloc of southern African countries had “approved” the deployment of a “Standby Force in support of Mozambique to combat terrorism and acts of violent extremism in Cabo Delgado”.The standby force is part of a regional defence pact that allows military intervention to prevent the spread of conflict.The communique after the meeting of the bloc’s leaders provided no further details on how many troops would be involved, when they would be deployed or what their role would be, adding only that humanitarian aid must be channelled to those most in need.The decision brings to an end months of deliberation and disagreement among the bloc about what is needed to stem the violence.While some members, like South Africa, have pushed for military action, others were reportedly more reticent. Mozambique President Filipe Nyusi himself has historically been resistant to foreign boots on the ground.Cabo Delgado district, MozambiqueAttacks by an armed group known locally as al-Shabab, whose origins, analysts say, are steeped in local political, religious and economic discontent, have steadily increased in the Cabo Delgado province since October 2017.The sophistication of the attacks has increased, too.The ISIL-linked fighters have ransacked towns and gained control of key roadways, destroying infrastructure and beheading civilians. In some cases, they have forced locals into their ranks or held them as sex slaves.Since August 2020, the fighters have been in control of the key port town of Mocimboa da Praia, while in March, they launched a coordinated assault on Palma town, killing dozens and forcing more than 67,000 to abandon their homes.The government has deployed thousands of soldiers to Cabo Delgado to combat the fighters, but analysts have long cautioned that Mozambique’s army has historically been weak, poorly trained and underequipped.   Al Jazeera’s Haru Mutasa, who has covered Mozambique’s security crisis extensively, said the countries that will be involved will most likely be those with the capability to do so, such as regional economic powerhouse South Africa or countries such as Zimbabwe, Namibia and Angola that have participated in other deployments in the past.“What we know from this proposal that was suggested is whatever troops go in, they will help Mozambique [by] perhaps patrolling the Indian Ocean coastline and the border areas with Tanzania – where some of these insurgents are thought to be coming from,” Mutasa said, speaking from Zimbabwe’s capital, Harare.The main question is whether these countries will have enough funds to go through the deployment to Mozambique, she noted.“In theory, every country in the SADC bloc needs to contribute to the standby force but economically many countries are having a hard time because of COVID-19 pandemic,” she said.“The question now is when will that deployment take place, who the troops are going to be, and what exactly are they going to be involved in.”   '"
      ]
     },
     "execution_count": 12,
     "metadata": {},
     "output_type": "execute_result"
    }
   ],
   "source": [
    "cleanarticle"
   ]
  },
  {
   "cell_type": "markdown",
   "id": "e8dde916",
   "metadata": {},
   "source": [
    "# Write a JSON file"
   ]
  },
  {
   "cell_type": "code",
   "execution_count": 13,
   "id": "e640cbf5",
   "metadata": {},
   "outputs": [],
   "source": [
    "jsondata = {}\n",
    "aDict = {\"title\":cleantitle, \"description\":cleandescription,\"article\":cleanarticle}\n",
    "jsondata[\"article_1\"] = aDict \n",
    "jsonString = json.dumps(jsondata)\n",
    "jsonFile = open(\"data.json\", \"w\")\n",
    "jsonFile.write(jsonString)\n",
    "jsonFile.close()"
   ]
  },
  {
   "cell_type": "markdown",
   "id": "e5af6a38",
   "metadata": {},
   "source": [
    "# Main (Every step in loop for each article)"
   ]
  },
  {
   "cell_type": "code",
   "execution_count": 15,
   "id": "c2cb99c4",
   "metadata": {},
   "outputs": [
    {
     "data": {
      "application/vnd.jupyter.widget-view+json": {
       "model_id": "e42d078cea954a0c8148a86dcd54a0ca",
       "version_major": 2,
       "version_minor": 0
      },
      "text/plain": [
       "  0%|          | 0/10 [00:00<?, ?it/s]"
      ]
     },
     "metadata": {},
     "output_type": "display_data"
    }
   ],
   "source": [
    "jsondata = {}\n",
    "article_id = {}\n",
    "article_count = [1,2,3,4,5,6,7,8,9,10]\n",
    "for i in tqdm(article_count):\n",
    "    article_id = i\n",
    "    response = requests.get(article_list[i-1])\n",
    "    html = response.content\n",
    "    soup = BeautifulSoup(html, 'lxml')\n",
    "    #Extract data from the website\n",
    "    divs = soup.find_all('div', {'class' : 'wysiwyg wysiwyg--all-content css-1ck9wyi'}) #extract the article (all news in this website use this class id)\n",
    "    divs2 = soup.find_all('title', {'data-rh'  : 'true'}) #extract the title\n",
    "    divs3 = soup.find_all('meta', {'name'  : 'description'}) # extract the description\n",
    "    article = str(divs[0])\n",
    "    title = str(divs2[0])\n",
    "    description = str(divs3[0])\n",
    "    description = description.split('\"')\n",
    "    #Preprocessing\n",
    "    cleanr = re.compile('<.*?>')\n",
    "    cleanarticle = re.sub(cleanr, '', article)\n",
    "    cleantitle = re.sub(cleanr, '', title)\n",
    "    cleanarticle.strip()\n",
    "    cleanarticle =cleanarticle.replace(\"\\n\",\"\")\n",
    "    cleandescription = description[1]\n",
    "    #append to articleDict\n",
    "    aDict = {\"title\":cleantitle, \"description\":cleandescription,\"article\":cleanarticle}\n",
    "    jsondata[\"article_\"+ str(article_id)] = aDict \n",
    "jsonString = json.dumps(jsondata)\n",
    "jsonFile = open(\"data.json\", \"w\")\n",
    "jsonFile.write(jsonString)\n",
    "jsonFile.close()\n",
    "    "
   ]
  },
  {
   "cell_type": "code",
   "execution_count": null,
   "id": "9b7df2b3",
   "metadata": {},
   "outputs": [],
   "source": []
  }
 ],
 "metadata": {
  "kernelspec": {
   "display_name": "Python 3 (ipykernel)",
   "language": "python",
   "name": "python3"
  },
  "language_info": {
   "codemirror_mode": {
    "name": "ipython",
    "version": 3
   },
   "file_extension": ".py",
   "mimetype": "text/x-python",
   "name": "python",
   "nbconvert_exporter": "python",
   "pygments_lexer": "ipython3",
   "version": "3.8.9"
  }
 },
 "nbformat": 4,
 "nbformat_minor": 5
}
